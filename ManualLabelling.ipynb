{
 "cells": [
  {
   "attachments": {},
   "cell_type": "markdown",
   "metadata": {},
   "source": [
    "# Thematic Analysis"
   ]
  },
  {
   "attachments": {},
   "cell_type": "markdown",
   "metadata": {},
   "source": [
    "## Data loading"
   ]
  },
  {
   "cell_type": "code",
   "execution_count": 261,
   "metadata": {},
   "outputs": [],
   "source": [
    "import pandas as pd\n",
    "import numpy as np\n",
    "import matplotlib.pyplot as plt\n",
    "import tensorflow as tf\n",
    "import seaborn as sns\n",
    "import re, string\n",
    "#import emoji\n",
    "import nltk\n",
    "\n",
    "from sklearn import preprocessing\n",
    "from imblearn.over_sampling import RandomOverSampler\n",
    "from sklearn.model_selection import train_test_split\n",
    "import demoji"
   ]
  },
  {
   "cell_type": "code",
   "execution_count": 262,
   "metadata": {},
   "outputs": [],
   "source": [
    "\n",
    "import re, nltk, spacy, gensim\n",
    "\n",
    "# Sklearn\n",
    "from sklearn.decomposition import LatentDirichletAllocation, TruncatedSVD\n",
    "from sklearn.feature_extraction.text import CountVectorizer, TfidfVectorizer\n",
    "from sklearn.model_selection import GridSearchCV\n",
    "from pprint import pprint\n",
    "\n",
    "# Plotting tools\n",
    "import pyLDAvis\n",
    "#import pyLDAvis.sklearn\n",
    "import matplotlib.pyplot as plt\n",
    "%matplotlib inline"
   ]
  },
  {
   "cell_type": "code",
   "execution_count": 263,
   "metadata": {},
   "outputs": [
    {
     "data": {
      "text/html": [
       "<div>\n",
       "<style scoped>\n",
       "    .dataframe tbody tr th:only-of-type {\n",
       "        vertical-align: middle;\n",
       "    }\n",
       "\n",
       "    .dataframe tbody tr th {\n",
       "        vertical-align: top;\n",
       "    }\n",
       "\n",
       "    .dataframe thead th {\n",
       "        text-align: right;\n",
       "    }\n",
       "</style>\n",
       "<table border=\"1\" class=\"dataframe\">\n",
       "  <thead>\n",
       "    <tr style=\"text-align: right;\">\n",
       "      <th></th>\n",
       "      <th>_type</th>\n",
       "      <th>url</th>\n",
       "      <th>date</th>\n",
       "      <th>content</th>\n",
       "      <th>renderedContent</th>\n",
       "      <th>id</th>\n",
       "      <th>user</th>\n",
       "      <th>replyCount</th>\n",
       "      <th>retweetCount</th>\n",
       "      <th>likeCount</th>\n",
       "      <th>...</th>\n",
       "      <th>inReplyToTweetId</th>\n",
       "      <th>inReplyToUser</th>\n",
       "      <th>mentionedUsers</th>\n",
       "      <th>coordinates</th>\n",
       "      <th>place</th>\n",
       "      <th>hashtags</th>\n",
       "      <th>cashtags</th>\n",
       "      <th>Searh</th>\n",
       "      <th>Unnamed: 29</th>\n",
       "      <th>manual_label</th>\n",
       "    </tr>\n",
       "  </thead>\n",
       "  <tbody>\n",
       "    <tr>\n",
       "      <th>0</th>\n",
       "      <td>snscrape.modules.twitter.Tweet</td>\n",
       "      <td>https://twitter.com/seriouschris90/status/1500...</td>\n",
       "      <td>2022-03-05 23:59:51+00:00</td>\n",
       "      <td>@RitchieTorres Please get it done!! Arm Ukrain...</td>\n",
       "      <td>@RitchieTorres Please get it done!! Arm Ukrain...</td>\n",
       "      <td>1.500000e+18</td>\n",
       "      <td>{'_type': 'snscrape.modules.twitter.User', 'us...</td>\n",
       "      <td>0</td>\n",
       "      <td>0</td>\n",
       "      <td>0</td>\n",
       "      <td>...</td>\n",
       "      <td>1.500000e+18</td>\n",
       "      <td>{'_type': 'snscrape.modules.twitter.User', 'us...</td>\n",
       "      <td>[{'_type': 'snscrape.modules.twitter.User', 'u...</td>\n",
       "      <td>NaN</td>\n",
       "      <td>NaN</td>\n",
       "      <td>['StandwithUkraine']</td>\n",
       "      <td>NaN</td>\n",
       "      <td>StandWithUkraine</td>\n",
       "      <td>NaN</td>\n",
       "      <td>standwithukraine'</td>\n",
       "    </tr>\n",
       "    <tr>\n",
       "      <th>1</th>\n",
       "      <td>snscrape.modules.twitter.Tweet</td>\n",
       "      <td>https://twitter.com/dyingBreath/status/1500259...</td>\n",
       "      <td>2022-03-05 23:59:49+00:00</td>\n",
       "      <td>Maybe it's the end but it never is, stay stron...</td>\n",
       "      <td>Maybe it's the end but it never is, stay stron...</td>\n",
       "      <td>1.500000e+18</td>\n",
       "      <td>{'_type': 'snscrape.modules.twitter.User', 'us...</td>\n",
       "      <td>0</td>\n",
       "      <td>3</td>\n",
       "      <td>1</td>\n",
       "      <td>...</td>\n",
       "      <td>NaN</td>\n",
       "      <td>NaN</td>\n",
       "      <td>NaN</td>\n",
       "      <td>NaN</td>\n",
       "      <td>NaN</td>\n",
       "      <td>['StandWithUkraine', 'PrayingForUkraine']</td>\n",
       "      <td>NaN</td>\n",
       "      <td>StandWithUkraine</td>\n",
       "      <td>NaN</td>\n",
       "      <td>standwithukraine'</td>\n",
       "    </tr>\n",
       "    <tr>\n",
       "      <th>2</th>\n",
       "      <td>snscrape.modules.twitter.Tweet</td>\n",
       "      <td>https://twitter.com/happytoday_777/status/1500...</td>\n",
       "      <td>2022-03-05 23:59:40+00:00</td>\n",
       "      <td>2年ぶりに東京マラソンやるんだね！参加の皆さん楽しんで下さいね。小池都知事の服がウクライナカ...</td>\n",
       "      <td>2年ぶりに東京マラソンやるんだね！参加の皆さん楽しんで下さいね。小池都知事の服がウクライナカ...</td>\n",
       "      <td>1.500000e+18</td>\n",
       "      <td>{'_type': 'snscrape.modules.twitter.User', 'us...</td>\n",
       "      <td>0</td>\n",
       "      <td>1</td>\n",
       "      <td>2</td>\n",
       "      <td>...</td>\n",
       "      <td>NaN</td>\n",
       "      <td>NaN</td>\n",
       "      <td>NaN</td>\n",
       "      <td>NaN</td>\n",
       "      <td>NaN</td>\n",
       "      <td>['東京マラソン', 'NoWar', 'StandWithUkraine', 'нетво...</td>\n",
       "      <td>NaN</td>\n",
       "      <td>StandWithUkraine</td>\n",
       "      <td>NaN</td>\n",
       "      <td>NaN</td>\n",
       "    </tr>\n",
       "    <tr>\n",
       "      <th>3</th>\n",
       "      <td>snscrape.modules.twitter.Tweet</td>\n",
       "      <td>https://twitter.com/Aaron25029105/status/15002...</td>\n",
       "      <td>2022-03-05 23:59:33+00:00</td>\n",
       "      <td>@chipfranklin I Stand With Ukraine 🇺🇦🇺🇲🇺🇦🇺🇲🇺🇦🇺...</td>\n",
       "      <td>@chipfranklin I Stand With Ukraine 🇺🇦🇺🇲🇺🇦🇺🇲🇺🇦🇺...</td>\n",
       "      <td>1.500000e+18</td>\n",
       "      <td>{'_type': 'snscrape.modules.twitter.User', 'us...</td>\n",
       "      <td>1</td>\n",
       "      <td>0</td>\n",
       "      <td>1</td>\n",
       "      <td>...</td>\n",
       "      <td>1.500000e+18</td>\n",
       "      <td>{'_type': 'snscrape.modules.twitter.User', 'us...</td>\n",
       "      <td>[{'_type': 'snscrape.modules.twitter.User', 'u...</td>\n",
       "      <td>NaN</td>\n",
       "      <td>NaN</td>\n",
       "      <td>NaN</td>\n",
       "      <td>NaN</td>\n",
       "      <td>StandWithUkraine</td>\n",
       "      <td>NaN</td>\n",
       "      <td>standwithukraine'</td>\n",
       "    </tr>\n",
       "    <tr>\n",
       "      <th>4</th>\n",
       "      <td>snscrape.modules.twitter.Tweet</td>\n",
       "      <td>https://twitter.com/loveamaninasuit/status/150...</td>\n",
       "      <td>2022-03-05 23:59:29+00:00</td>\n",
       "      <td>Amor d'Água Fresca by Rita Redshoes in Ukraine...</td>\n",
       "      <td>Amor d'Água Fresca by Rita Redshoes in Ukraine...</td>\n",
       "      <td>1.500000e+18</td>\n",
       "      <td>{'_type': 'snscrape.modules.twitter.User', 'us...</td>\n",
       "      <td>0</td>\n",
       "      <td>2</td>\n",
       "      <td>2</td>\n",
       "      <td>...</td>\n",
       "      <td>NaN</td>\n",
       "      <td>NaN</td>\n",
       "      <td>NaN</td>\n",
       "      <td>NaN</td>\n",
       "      <td>NaN</td>\n",
       "      <td>['StandWithUkraine']</td>\n",
       "      <td>NaN</td>\n",
       "      <td>StandWithUkraine</td>\n",
       "      <td>NaN</td>\n",
       "      <td>standwithukraine'</td>\n",
       "    </tr>\n",
       "  </tbody>\n",
       "</table>\n",
       "<p>5 rows × 31 columns</p>\n",
       "</div>"
      ],
      "text/plain": [
       "                            _type  \\\n",
       "0  snscrape.modules.twitter.Tweet   \n",
       "1  snscrape.modules.twitter.Tweet   \n",
       "2  snscrape.modules.twitter.Tweet   \n",
       "3  snscrape.modules.twitter.Tweet   \n",
       "4  snscrape.modules.twitter.Tweet   \n",
       "\n",
       "                                                 url  \\\n",
       "0  https://twitter.com/seriouschris90/status/1500...   \n",
       "1  https://twitter.com/dyingBreath/status/1500259...   \n",
       "2  https://twitter.com/happytoday_777/status/1500...   \n",
       "3  https://twitter.com/Aaron25029105/status/15002...   \n",
       "4  https://twitter.com/loveamaninasuit/status/150...   \n",
       "\n",
       "                        date  \\\n",
       "0  2022-03-05 23:59:51+00:00   \n",
       "1  2022-03-05 23:59:49+00:00   \n",
       "2  2022-03-05 23:59:40+00:00   \n",
       "3  2022-03-05 23:59:33+00:00   \n",
       "4  2022-03-05 23:59:29+00:00   \n",
       "\n",
       "                                             content  \\\n",
       "0  @RitchieTorres Please get it done!! Arm Ukrain...   \n",
       "1  Maybe it's the end but it never is, stay stron...   \n",
       "2  2年ぶりに東京マラソンやるんだね！参加の皆さん楽しんで下さいね。小池都知事の服がウクライナカ...   \n",
       "3  @chipfranklin I Stand With Ukraine 🇺🇦🇺🇲🇺🇦🇺🇲🇺🇦🇺...   \n",
       "4  Amor d'Água Fresca by Rita Redshoes in Ukraine...   \n",
       "\n",
       "                                     renderedContent            id  \\\n",
       "0  @RitchieTorres Please get it done!! Arm Ukrain...  1.500000e+18   \n",
       "1  Maybe it's the end but it never is, stay stron...  1.500000e+18   \n",
       "2  2年ぶりに東京マラソンやるんだね！参加の皆さん楽しんで下さいね。小池都知事の服がウクライナカ...  1.500000e+18   \n",
       "3  @chipfranklin I Stand With Ukraine 🇺🇦🇺🇲🇺🇦🇺🇲🇺🇦🇺...  1.500000e+18   \n",
       "4  Amor d'Água Fresca by Rita Redshoes in Ukraine...  1.500000e+18   \n",
       "\n",
       "                                                user  replyCount  \\\n",
       "0  {'_type': 'snscrape.modules.twitter.User', 'us...           0   \n",
       "1  {'_type': 'snscrape.modules.twitter.User', 'us...           0   \n",
       "2  {'_type': 'snscrape.modules.twitter.User', 'us...           0   \n",
       "3  {'_type': 'snscrape.modules.twitter.User', 'us...           1   \n",
       "4  {'_type': 'snscrape.modules.twitter.User', 'us...           0   \n",
       "\n",
       "   retweetCount  likeCount  ...  inReplyToTweetId  \\\n",
       "0             0          0  ...      1.500000e+18   \n",
       "1             3          1  ...               NaN   \n",
       "2             1          2  ...               NaN   \n",
       "3             0          1  ...      1.500000e+18   \n",
       "4             2          2  ...               NaN   \n",
       "\n",
       "                                       inReplyToUser  \\\n",
       "0  {'_type': 'snscrape.modules.twitter.User', 'us...   \n",
       "1                                                NaN   \n",
       "2                                                NaN   \n",
       "3  {'_type': 'snscrape.modules.twitter.User', 'us...   \n",
       "4                                                NaN   \n",
       "\n",
       "                                      mentionedUsers coordinates place  \\\n",
       "0  [{'_type': 'snscrape.modules.twitter.User', 'u...         NaN   NaN   \n",
       "1                                                NaN         NaN   NaN   \n",
       "2                                                NaN         NaN   NaN   \n",
       "3  [{'_type': 'snscrape.modules.twitter.User', 'u...         NaN   NaN   \n",
       "4                                                NaN         NaN   NaN   \n",
       "\n",
       "                                            hashtags cashtags  \\\n",
       "0                               ['StandwithUkraine']      NaN   \n",
       "1          ['StandWithUkraine', 'PrayingForUkraine']      NaN   \n",
       "2  ['東京マラソン', 'NoWar', 'StandWithUkraine', 'нетво...      NaN   \n",
       "3                                                NaN      NaN   \n",
       "4                               ['StandWithUkraine']      NaN   \n",
       "\n",
       "              Searh Unnamed: 29       manual_label  \n",
       "0  StandWithUkraine         NaN  standwithukraine'  \n",
       "1  StandWithUkraine         NaN  standwithukraine'  \n",
       "2  StandWithUkraine         NaN                NaN  \n",
       "3  StandWithUkraine         NaN  standwithukraine'  \n",
       "4  StandWithUkraine         NaN  standwithukraine'  \n",
       "\n",
       "[5 rows x 31 columns]"
      ]
     },
     "execution_count": 263,
     "metadata": {},
     "output_type": "execute_result"
    }
   ],
   "source": [
    "# Read the Excel file\n",
    "tweet_df = pd.read_csv('StandWithUkraineManual.csv')\n",
    "tweet_df\n",
    "tweet_df.head()"
   ]
  },
  {
   "cell_type": "code",
   "execution_count": 264,
   "metadata": {},
   "outputs": [
    {
     "data": {
      "text/plain": [
       "Index(['_type', 'url', 'date', 'content', 'renderedContent', 'id', 'user',\n",
       "       'replyCount', 'retweetCount', 'likeCount', 'quoteCount',\n",
       "       'conversationId', 'lang', 'source', 'sourceUrl', 'sourceLabel',\n",
       "       'outlinks', 'tcooutlinks', 'media', 'retweetedTweet', 'quotedTweet',\n",
       "       'inReplyToTweetId', 'inReplyToUser', 'mentionedUsers', 'coordinates',\n",
       "       'place', 'hashtags', 'cashtags', 'Searh', 'Unnamed: 29',\n",
       "       'manual_label'],\n",
       "      dtype='object')"
      ]
     },
     "execution_count": 264,
     "metadata": {},
     "output_type": "execute_result"
    }
   ],
   "source": [
    "tweet_df.columns"
   ]
  },
  {
   "attachments": {},
   "cell_type": "markdown",
   "metadata": {},
   "source": [
    "## Data Pre-Processing"
   ]
  },
  {
   "cell_type": "code",
   "execution_count": 265,
   "metadata": {},
   "outputs": [],
   "source": [
    "#Clean emojis from text\n",
    "def strip_emoji(text):\n",
    "    return demoji.replace(text, '')#remove emoji"
   ]
  },
  {
   "cell_type": "code",
   "execution_count": 266,
   "metadata": {},
   "outputs": [],
   "source": [
    "#Remove punctuations, links, mentions and \\r\\n new line characters\n",
    "def strip_all_entities(text): \n",
    "    text = text.replace('\\r', '').replace('\\n', ' ').replace('\\n', ' ').lower() #remove \\n and \\r and lowercase\n",
    "    text = re.sub(r\"(?:\\@|https?\\://)\\S+\", \"\", text) #remove links and mentions\n",
    "    text = re.sub(r'[^\\x00-\\x7f]',r'', text) #remove non utf8/ascii characters such as '\\x9a\\x91\\x97\\x9a\\x97'\n",
    "    banned_list= string.punctuation + 'Ã'+'±'+'ã'+'¼'+'â'+'»'+'§'\n",
    "    table = str.maketrans('', '', banned_list)\n",
    "    text = text.translate(table)\n",
    "    return text"
   ]
  },
  {
   "cell_type": "code",
   "execution_count": 267,
   "metadata": {},
   "outputs": [],
   "source": [
    "import re\n",
    "\n",
    "def clean_hashtags(tweet):\n",
    "    new_tweet = \" \".join(word.strip() for word in re.split(r'#(?!(?:hashtag)\\b)[\\w-]+(?=(?:\\s+#[\\w-]+)*\\s*$)', tweet)) #remove last hashtags\n",
    "    new_tweet2 = \" \".join(word.strip() for word in re.split(r'#|_', new_tweet)) #remove hashtags symbol from words in the middle of the sentence\n",
    "    return new_tweet2"
   ]
  },
  {
   "cell_type": "code",
   "execution_count": 268,
   "metadata": {},
   "outputs": [],
   "source": [
    "#Filter special characters such as & and $ present in some words\n",
    "def filter_chars(a):\n",
    "    sent = []\n",
    "    for word in a.split(' '):\n",
    "        if ('$' in word) | ('&' in word):\n",
    "            sent.append('')\n",
    "        else:\n",
    "            sent.append(word)\n",
    "    return ' '.join(sent)\n",
    "\n",
    "def remove_mult_spaces(text):\n",
    "    return re.sub(r\"\\s\\s+\", \" \", text)"
   ]
  },
  {
   "cell_type": "code",
   "execution_count": 269,
   "metadata": {},
   "outputs": [],
   "source": [
    "tweet_df['content'].dropna(inplace=True)\n",
    "tweet_df['text_clean'] = tweet_df['content'].apply(lambda x: strip_all_entities(x))\n",
    "tweet_df['text_clean'] = tweet_df['text_clean'].apply(lambda x: clean_hashtags(x))\n",
    "tweet_df['text_clean'] = tweet_df['text_clean'].apply(lambda x: filter_chars(x))\n",
    "tweet_df['text_clean'] = tweet_df['text_clean'].apply(lambda x: remove_mult_spaces(x))"
   ]
  },
  {
   "cell_type": "code",
   "execution_count": 270,
   "metadata": {},
   "outputs": [],
   "source": [
    "train_data, test_data = train_test_split(tweet_df, test_size=0.2, random_state=42)"
   ]
  },
  {
   "cell_type": "code",
   "execution_count": 271,
   "metadata": {},
   "outputs": [
    {
     "data": {
      "text/html": [
       "<div>\n",
       "<style scoped>\n",
       "    .dataframe tbody tr th:only-of-type {\n",
       "        vertical-align: middle;\n",
       "    }\n",
       "\n",
       "    .dataframe tbody tr th {\n",
       "        vertical-align: top;\n",
       "    }\n",
       "\n",
       "    .dataframe thead th {\n",
       "        text-align: right;\n",
       "    }\n",
       "</style>\n",
       "<table border=\"1\" class=\"dataframe\">\n",
       "  <thead>\n",
       "    <tr style=\"text-align: right;\">\n",
       "      <th></th>\n",
       "      <th>content</th>\n",
       "      <th>text_clean</th>\n",
       "    </tr>\n",
       "  </thead>\n",
       "  <tbody>\n",
       "    <tr>\n",
       "      <th>56</th>\n",
       "      <td>【音韓】ジン（BTS（防弾少年団））に投票完了！現在の得票数:12805票\\n人気投票はこち...</td>\n",
       "      <td>bts12805 spotify4800 yoursjin yours jin jin se...</td>\n",
       "    </tr>\n",
       "    <tr>\n",
       "      <th>227</th>\n",
       "      <td>@e2dot7182818284 @America1Scotty @TiaRees9 Ok ...</td>\n",
       "      <td>ok you boring bitch stand with ukraine go to p...</td>\n",
       "    </tr>\n",
       "    <tr>\n",
       "      <th>280</th>\n",
       "      <td>Brittney Griner was arrested in Moscow is this...</td>\n",
       "      <td>brittney griner was arrested in moscow is this...</td>\n",
       "    </tr>\n",
       "    <tr>\n",
       "      <th>486</th>\n",
       "      <td>Gotta stand with Ukraine though right? All tho...</td>\n",
       "      <td>gotta stand with ukraine though right all thos...</td>\n",
       "    </tr>\n",
       "    <tr>\n",
       "      <th>220</th>\n",
       "      <td>🇺🇦\\nUkraine \\n#RussiaUkraineWar\\n#StopWarInUkr...</td>\n",
       "      <td>ukraine russiaukrainewar stopwarinukraine kyiv...</td>\n",
       "    </tr>\n",
       "    <tr>\n",
       "      <th>...</th>\n",
       "      <td>...</td>\n",
       "      <td>...</td>\n",
       "    </tr>\n",
       "    <tr>\n",
       "      <th>106</th>\n",
       "      <td>#standwithUkraine https://t.co/Ir3Daiut11</td>\n",
       "      <td>standwithukraine</td>\n",
       "    </tr>\n",
       "    <tr>\n",
       "      <th>270</th>\n",
       "      <td>The amazing people at @MemeNFTOfficial is curr...</td>\n",
       "      <td>the amazing people at is currently having a fu...</td>\n",
       "    </tr>\n",
       "    <tr>\n",
       "      <th>348</th>\n",
       "      <td>@ZelenskyyUa @naftalibennett I stand with Ukra...</td>\n",
       "      <td>i stand with ukraine</td>\n",
       "    </tr>\n",
       "    <tr>\n",
       "      <th>435</th>\n",
       "      <td>Some photos from today’s Seattle Ukraine March...</td>\n",
       "      <td>some photos from todays seattle ukraine march ...</td>\n",
       "    </tr>\n",
       "    <tr>\n",
       "      <th>102</th>\n",
       "      <td>#ICC #KarimAAKhanQC #StandWithUkraine 🇺🇦 https...</td>\n",
       "      <td>icc karimaakhanqc standwithukraine</td>\n",
       "    </tr>\n",
       "  </tbody>\n",
       "</table>\n",
       "<p>399 rows × 2 columns</p>\n",
       "</div>"
      ],
      "text/plain": [
       "                                               content  \\\n",
       "56   【音韓】ジン（BTS（防弾少年団））に投票完了！現在の得票数:12805票\\n人気投票はこち...   \n",
       "227  @e2dot7182818284 @America1Scotty @TiaRees9 Ok ...   \n",
       "280  Brittney Griner was arrested in Moscow is this...   \n",
       "486  Gotta stand with Ukraine though right? All tho...   \n",
       "220  🇺🇦\\nUkraine \\n#RussiaUkraineWar\\n#StopWarInUkr...   \n",
       "..                                                 ...   \n",
       "106          #standwithUkraine https://t.co/Ir3Daiut11   \n",
       "270  The amazing people at @MemeNFTOfficial is curr...   \n",
       "348  @ZelenskyyUa @naftalibennett I stand with Ukra...   \n",
       "435  Some photos from today’s Seattle Ukraine March...   \n",
       "102  #ICC #KarimAAKhanQC #StandWithUkraine 🇺🇦 https...   \n",
       "\n",
       "                                            text_clean  \n",
       "56   bts12805 spotify4800 yoursjin yours jin jin se...  \n",
       "227  ok you boring bitch stand with ukraine go to p...  \n",
       "280  brittney griner was arrested in moscow is this...  \n",
       "486  gotta stand with ukraine though right all thos...  \n",
       "220  ukraine russiaukrainewar stopwarinukraine kyiv...  \n",
       "..                                                 ...  \n",
       "106                                   standwithukraine  \n",
       "270  the amazing people at is currently having a fu...  \n",
       "348                               i stand with ukraine  \n",
       "435  some photos from todays seattle ukraine march ...  \n",
       "102                 icc karimaakhanqc standwithukraine  \n",
       "\n",
       "[399 rows x 2 columns]"
      ]
     },
     "execution_count": 271,
     "metadata": {},
     "output_type": "execute_result"
    }
   ],
   "source": [
    "train_data[['content','text_clean']]"
   ]
  },
  {
   "cell_type": "code",
   "execution_count": 272,
   "metadata": {},
   "outputs": [],
   "source": [
    "import nltk\n",
    "from nltk.tokenize import word_tokenize\n",
    "train_data['tokenized'] = [word_tokenize(entry) for entry in train_data['text_clean']]"
   ]
  },
  {
   "cell_type": "code",
   "execution_count": 273,
   "metadata": {},
   "outputs": [
    {
     "data": {
      "text/plain": [
       "56     [bts12805, spotify4800, yoursjin, yours, jin, ...\n",
       "227    [ok, you, boring, bitch, stand, with, ukraine,...\n",
       "280    [brittney, griner, was, arrested, in, moscow, ...\n",
       "486    [got, ta, stand, with, ukraine, though, right,...\n",
       "220    [ukraine, russiaukrainewar, stopwarinukraine, ...\n",
       "                             ...                        \n",
       "106                                   [standwithukraine]\n",
       "270    [the, amazing, people, at, is, currently, havi...\n",
       "348                            [i, stand, with, ukraine]\n",
       "435    [some, photos, from, todays, seattle, ukraine,...\n",
       "102               [icc, karimaakhanqc, standwithukraine]\n",
       "Name: tokenized, Length: 399, dtype: object"
      ]
     },
     "execution_count": 273,
     "metadata": {},
     "output_type": "execute_result"
    }
   ],
   "source": [
    "train_data['tokenized']"
   ]
  },
  {
   "cell_type": "code",
   "execution_count": 274,
   "metadata": {},
   "outputs": [
    {
     "name": "stdout",
     "output_type": "stream",
     "text": [
      "(399, 33)\n"
     ]
    }
   ],
   "source": [
    "print(train_data.shape)"
   ]
  },
  {
   "attachments": {},
   "cell_type": "markdown",
   "metadata": {},
   "source": [
    "## BerTopic Modelling"
   ]
  },
  {
   "cell_type": "code",
   "execution_count": 164,
   "metadata": {},
   "outputs": [],
   "source": [
    "from bertopic import BERTopic\n",
    "\n",
    "# Train BERTopic model and calculate coherence\n",
    "bertopic_model = BERTopic()\n"
   ]
  },
  {
   "cell_type": "code",
   "execution_count": 165,
   "metadata": {},
   "outputs": [],
   "source": [
    "text_data = tweet_df['text_clean'].tolist() "
   ]
  },
  {
   "cell_type": "code",
   "execution_count": 166,
   "metadata": {},
   "outputs": [
    {
     "data": {
      "text/plain": [
       "<bertopic._bertopic.BERTopic at 0x2e1475410>"
      ]
     },
     "execution_count": 166,
     "metadata": {},
     "output_type": "execute_result"
    }
   ],
   "source": [
    "bertopic_model.fit(text_data) "
   ]
  },
  {
   "cell_type": "code",
   "execution_count": 167,
   "metadata": {},
   "outputs": [],
   "source": [
    "bertopic_topics, _ = bertopic_model.fit_transform(text_data)  "
   ]
  },
  {
   "cell_type": "code",
   "execution_count": 122,
   "metadata": {},
   "outputs": [],
   "source": [
    "# Retrieve topic keywords from the BERTopic model\n",
    "bertopic_topic_keywords = bertopic_model.get_topics()"
   ]
  },
  {
   "cell_type": "code",
   "execution_count": 123,
   "metadata": {},
   "outputs": [
    {
     "data": {
      "text/plain": [
       "['-1, standwithukraine, mlb, noflyzone, it, is',\n",
       " '0, ukraine, the, with, to, stand',\n",
       " '1, standwithukraine, you, is, standwithbiden, defeatthegop2022',\n",
       " '2, playing, video, standwithukraine, now, is',\n",
       " '3, mastercard, visa, operations, russia, in',\n",
       " '4, nowar, standwithukraine, youtube, todayweareallukraine, nowplaying']"
      ]
     },
     "execution_count": 123,
     "metadata": {},
     "output_type": "execute_result"
    }
   ],
   "source": [
    "topic_labels = bertopic_model.generate_topic_labels(nr_words=5, separator=\", \")\n",
    "type(topic_labels)\n",
    "topic_labels"
   ]
  },
  {
   "cell_type": "code",
   "execution_count": 124,
   "metadata": {},
   "outputs": [
    {
     "name": "stdout",
     "output_type": "stream",
     "text": [
      "Integers: [-1, 0, 1, 2, 3, 4]\n",
      "Words lists: [['standwithukraine', 'mlb', 'noflyzone', 'it', 'is'], ['ukraine', 'the', 'with', 'to', 'stand'], ['standwithukraine', 'you', 'is', 'standwithbiden', 'defeatthegop2022'], ['playing', 'video', 'standwithukraine', 'now', 'is'], ['mastercard', 'visa', 'operations', 'russia', 'in'], ['nowar', 'standwithukraine', 'youtube', 'todayweareallukraine', 'nowplaying']]\n"
     ]
    },
    {
     "data": {
      "text/plain": [
       "list"
      ]
     },
     "execution_count": 124,
     "metadata": {},
     "output_type": "execute_result"
    }
   ],
   "source": [
    "words_lists=[]\n",
    "integers = []\n",
    "for topic in topic_labels:\n",
    "    parts=topic.split(', ')\n",
    "    # Convert the first part to an integer and append to the integers list\n",
    "    integers.append(int(parts[0]))\n",
    "    \n",
    "    # Append the rest of the parts (the words) to the words_list\n",
    "    words_lists.append(parts[1:])\n",
    "\n",
    "# Print the separated integers and words\n",
    "print(\"Integers:\", integers)\n",
    "print(\"Words lists:\", words_lists)\n",
    "type(words_lists)"
   ]
  },
  {
   "cell_type": "code",
   "execution_count": 126,
   "metadata": {},
   "outputs": [
    {
     "name": "stdout",
     "output_type": "stream",
     "text": [
      "Integers: [-1, 0, 1, 2, 3, 4]\n",
      "Words lists: [[['standwithukraine'], ['mlb'], ['noflyzone'], ['it'], ['is']], [['ukraine'], ['the'], ['with'], ['to'], ['stand']], [['standwithukraine'], ['you'], ['is'], ['standwithbiden'], ['defeatthegop2022']], [['playing'], ['video'], ['standwithukraine'], ['now'], ['is']], [['mastercard'], ['visa'], ['operations'], ['russia'], ['in']], [['nowar'], ['standwithukraine'], ['youtube'], ['todayweareallukraine'], ['nowplaying']]]\n"
     ]
    }
   ],
   "source": [
    "words_lists=[]\n",
    "integers = []\n",
    "for topic in topic_labels:\n",
    "    parts=topic.split(', ')\n",
    "    # Convert the first part to an integer and append to the integers list\n",
    "    integers.append(int(parts[0]))\n",
    "    \n",
    "    # Append each word as a separate list to the words_list\n",
    "    words_lists.append([[word] for word in parts[1:]])\n",
    "\n",
    "# Print the separated integers and words\n",
    "print(\"Integers:\", integers)\n",
    "print(\"Words lists:\", words_lists)\n"
   ]
  },
  {
   "cell_type": "code",
   "execution_count": 127,
   "metadata": {},
   "outputs": [
    {
     "name": "stdout",
     "output_type": "stream",
     "text": [
      "Words lists: [[['standwithukraine'], ['mlb'], ['noflyzone'], ['it'], ['is']], [['ukraine'], ['the'], ['with'], ['to'], ['stand']], [['standwithukraine'], ['you'], ['is'], ['standwithbiden'], ['defeatthegop2022']], [['playing'], ['video'], ['standwithukraine'], ['now'], ['is']], [['mastercard'], ['visa'], ['operations'], ['russia'], ['in']], [['nowar'], ['standwithukraine'], ['youtube'], ['todayweareallukraine'], ['nowplaying']]]\n"
     ]
    }
   ],
   "source": [
    "print(\"Words lists:\", words_lists)"
   ]
  },
  {
   "cell_type": "code",
   "execution_count": 128,
   "metadata": {},
   "outputs": [
    {
     "name": "stdout",
     "output_type": "stream",
     "text": [
      "-1 [['standwithukraine'], ['mlb'], ['noflyzone'], ['it'], ['is']]\n",
      "0 [['ukraine'], ['the'], ['with'], ['to'], ['stand']]\n",
      "1 [['standwithukraine'], ['you'], ['is'], ['standwithbiden'], ['defeatthegop2022']]\n",
      "2 [['playing'], ['video'], ['standwithukraine'], ['now'], ['is']]\n",
      "3 [['mastercard'], ['visa'], ['operations'], ['russia'], ['in']]\n",
      "4 [['nowar'], ['standwithukraine'], ['youtube'], ['todayweareallukraine'], ['nowplaying']]\n"
     ]
    }
   ],
   "source": [
    "data_dict = {}\n",
    "for topic in topic_labels:\n",
    "    parts = topic.split(', ')\n",
    "    key = int(parts[0])\n",
    "    words = parts[1:]\n",
    "    data_dict[key] = [[word] for word in words]\n",
    "\n",
    "# Print the dictionary\n",
    "for key, value in data_dict.items():\n",
    "    print(key, value)\n"
   ]
  },
  {
   "cell_type": "code",
   "execution_count": 275,
   "metadata": {},
   "outputs": [],
   "source": [
    "manual_labels = tweet_df['manual_label'].apply(lambda x: [x]).tolist()"
   ]
  },
  {
   "cell_type": "code",
   "execution_count": 276,
   "metadata": {},
   "outputs": [
    {
     "name": "stdout",
     "output_type": "stream",
     "text": [
      "Formatted Manual Labels: [['standwithukraine'], ['standwithukraine'], [], ['standwithukraine'], ['standwithukraine'], ['standwithukraine'], ['standwithukraine'], ['stopwarinukraine'], ['standwithukraine'], ['stopputin'], ['medvedevRussiae'], [], ['medvedevRussiae'], ['stand', 'with', 'the', 'ukraine'], ['elon musk'], ['zelensky'], ['taiwan'], ['elon musk'], ['andrey lunin'], [], ['standwithukraine'], ['36', '1700', 'standwithukraine'], ['mlbpa'], ['medvedevRussiae'], ['standwithukraine'], ['NYC delivered'], ['standwithukraine'], ['supportukraine'], ['supportukraine'], ['standwithukraine'], ['stopputin'], ['standwithukraine'], ['standwithukraine', 'stopputin'], ['nowar', 'forget', 'war'], ['donateforukraine'], ['standwithukraine'], ['standwithukraine'], ['stopputin'], ['standwithukraine'], ['americans leaving russia'], ['trust president biden'], ['standwithukraine'], ['standwithukraine'], ['construction paper flag'], ['boris johson doing great job'], ['standwithukraine'], ['fight for freedom'], ['standwithukraine'], ['bless americans'], ['mastercard', 'visa', 'operations', 'russia'], ['stopputin'], ['putin is an idiot'], ['ukaine the beginning'], ['putin good for no one'], ['nowar', 'standwithukraine', 'playing', \" 'youtube\"], ['standwithukraine', 'nofly', 'it'], ['we', 'to', 'and'], ['standwithukraine'], ['defeatthegop2022', 'standwithbiden', 'putinstop'], ['mastercard', 'visa', 'operations', 'russia'], ['support ukraine'], ['putin', 'of'], ['standwithukraine'], [\"EU's reaction to ukraine is acceptable\"], ['african countries not with ukraine'], ['playing', 'now', 'video', 'standwithukraine'], ['standwithukraine'], ['bless americans'], ['standwithukraine'], ['stopputin'], ['putin good for no one'], ['standwithukraine'], ['standwithukraine'], ['zelensky'], ['bless americans'], ['stopwarinukraine'], ['standwithukraine'], ['standwithukraine'], ['standwithukraine'], ['standwithukraine'], ['standwithukraine'], ['americans leaving russia'], ['support ukraine'], ['standwithukraine'], ['stopputin'], [], [], ['boris johson doing great job'], ['stopwarinukraine'], ['putin is an idiot'], ['standwithukraine'], [], ['standwithukraine'], ['americans leaving russia'], ['standwithukraine'], ['standwithukraine'], ['standwithukraine'], [], [], [], ['standwithukraine'], ['bless americans'], ['putin good for no one'], ['supportukraine'], ['bless americans'], ['putin good for no one'], ['putin is an idiot'], ['standwithukraine'], ['standwithukraine'], ['stopputin'], ['standwithukraine'], ['nowar', 'forget', 'war'], ['standwithukraine'], ['standwithukraine'], ['zelensky'], ['putin good for no one'], ['bless americans'], ['standwithukraine'], ['standwithukraine', 'stopputin'], ['standwithukraine'], ['standwithukraine'], ['putin good for no one'], ['americans leaving russia'], ['standwithukraine'], ['standwithukraine', 'stopputin'], ['standwithukraine', 'peaceforukraine'], ['standwithukraine'], ['standwithukraine'], ['stopwarinukraine'], ['stopwarinukraine'], ['standwithukraine', 'stay', 'noflyzone'], ['stopputin'], ['standwithukraine'], ['standwithukraine', 'stopputin'], ['stopwarinukraine'], ['standwithukraine'], ['standwithukraine'], ['stopwarinukraine'], ['bless americans'], ['stopputin'], ['stopwarinukraine'], ['standwithukraine'], ['standwithukraine'], ['standwithukraine'], ['standwithukraine'], ['stopwarinukraine'], ['trust president biden'], ['stand', 'with', 'the', 'ukraine'], [], ['standwithukraine'], ['standwithukraine'], ['stopwarinukraine'], ['standwithukraine'], [], [], ['stopwarinukraine'], ['standwithukraine'], ['standwithukraine'], ['standwithukraine'], ['stopwarinukraine'], ['americans leaving russia'], ['bless americans'], ['putin good for no one'], ['stopwarinukraine'], ['standwithukraine'], ['stopputin'], ['nowar', 'forget', 'war'], ['standwithukraine'], [], [], [], ['standwithukraine'], ['stopwarinukraine'], ['standwithukraine'], ['stand', 'with', 'the', 'ukraine'], ['standwithukraine'], ['stopwarinukraine'], ['stopputin'], ['bless americans'], [], [], [], ['standwithukraine'], ['stopputin'], ['bless americans'], ['standwithukraine'], [], [], ['putin is an idiot'], ['bless americans'], ['standwithukraine'], ['stopwarinukraine'], ['nowar', 'forget', 'war'], ['bless americans'], ['standwithukraine'], ['standwithukraine'], ['stopputin'], ['playing', 'video', 'standwithukraine'], [], [], [], [], [], [], [], [], [], [], [], [], [], [], [], [], [], [], [], [], [], [], [], [], [], [], [], [], [], [], [], [], [], [], [], [], [], [], [], [], [], [], [], [], [], [], [], [], [], [], [], [], [], [], [], [], [], [], [], [], [], [], [], [], [], [], [], [], [], [], [], [], [], [], [], [], [], [], [], [], [], [], [], [], [], [], [], [], [], [], [], [], [], [], [], [], [], [], [], [], [], [], [], [], [], [], [], [], [], [], [], [], [], [], [], [], [], [], [], [], [], [], [], [], [], [], [], [], [], [], [], [], [], [], [], [], [], [], [], [], [], [], [], [], [], [], [], [], [], [], [], [], [], [], [], [], [], [], [], [], [], [], [], [], [], [], [], [], [], [], [], [], [], [], [], [], [], [], [], [], [], [], [], [], [], [], [], [], [], [], [], [], [], [], [], [], [], [], [], [], [], [], [], [], [], [], [], [], [], [], [], [], [], [], [], [], [], [], [], [], [], [], [], [], [], [], [], [], [], [], [], [], [], [], [], [], [], [], [], [], [], [], [], [], [], [], [], [], [], [], [], [], [], [], [], [], [], [], [], [], [], [], [], [], [], [], [], [], [], [], [], [], [], [], [], [], [], [], [], [], [], [], [], [], [], [], [], [], [], [], [], [], [], [], [], [], [], [], [], [], []]\n"
     ]
    }
   ],
   "source": [
    "formatted_manual_labels = []\n",
    "for labels in manual_labels:\n",
    "    if isinstance(labels[0], str):\n",
    "        formatted_labels = [label.strip(\"[]'\") for label in labels[0].split(', ')]\n",
    "        formatted_manual_labels.append(formatted_labels)\n",
    "    else:\n",
    "        formatted_manual_labels.append([])\n",
    "        \n",
    "print(\"Formatted Manual Labels:\", formatted_manual_labels)\n"
   ]
  },
  {
   "cell_type": "code",
   "execution_count": 255,
   "metadata": {},
   "outputs": [
    {
     "name": "stdout",
     "output_type": "stream",
     "text": [
      "standwithukraine':1, 2, 4, 5, 6, 7, 9, 21, 25, 27, 30, 32, 36, 37, 42, 43, 46, 48, 58, 63, 73, 109, 121, 143\n",
      "stopwarinukraine':8, 76, 89, 129, 130, 135, 138, 141\n",
      "stopputin':10, 31, 38, 51, 70, 85, 110, 132, 140\n",
      "medvedevRussiae':11, 13, 24\n",
      "stand', with', 'the', 'ukraine':14\n",
      "elon musk':15, 18\n",
      "zelensky':16, 74, 115\n",
      "taiwan':17\n",
      "andrey lunin':19\n",
      "36', '1700', 'standwithukraine:22\n",
      "mlbpa':23\n",
      "NYC delivered':26\n",
      "supportukraine:28, 104\n",
      "supportukraine':29\n",
      "standwithukraine', 'stopputin':33, 119, 125, 134\n",
      "nowar', 'forget', 'war':34, 112\n",
      "donateforukraine':35\n",
      "standwithukraine:39, 67, 69, 72, 77, 78, 79, 80, 81, 84, 91, 93, 95, 96, 97, 101, 108, 111, 113, 114, 118, 120, 124, 127, 128, 133, 136, 137, 142\n",
      "americans leaving russia:40, 82, 94, 123\n",
      "trust president biden:41\n",
      "construction paper flag:44\n",
      "boris johson doing great job:45, 88\n",
      "fight for freedom:47\n",
      "bless americans:49, 68, 75, 102, 105, 117, 139\n",
      "mastercard', 'visa', 'operations', 'russia':50, 60\n",
      "putin is an idiot:52, 90, 107\n",
      "ukaine the beginning:53\n",
      "putin good for no one:54, 71, 103, 106, 116, 122\n",
      "nowar', 'standwithukraine', 'playing',  'youtube':55\n",
      "standwithukraine', 'nofly', 'it':56\n",
      "we', 'to', 'and':57\n",
      "defeatthegop2022', 'standwithbiden', 'putinstop':59\n",
      "support ukraine:61, 83\n",
      "putin', 'of':62\n",
      "EU's reaction to ukraine is acceptable:64\n",
      "african countries not with ukraine:65\n",
      "playing', 'now', 'video', 'standwithukraine':66\n",
      "standwithukraine', 'peaceforukraine':126\n",
      "standwithukraine', 'stay', 'noflyzone':131\n"
     ]
    }
   ],
   "source": [
    "topic_columns = {}\n",
    "\n",
    "for idx, topic_list in enumerate(manual_labels, start=1):\n",
    "    for topic in topic_list:\n",
    "        if isinstance(topic, str):\n",
    "            if topic not in topic_columns:\n",
    "                topic_columns[topic] = [idx]\n",
    "            else:\n",
    "                topic_columns[topic].append(idx)\n",
    "\n",
    "# Print the topic columns\n",
    "for topic, columns in topic_columns.items():\n",
    "    columns_str = ', '.join(map(str, columns))\n",
    "    print(f\"{topic}:{columns_str}\")\n"
   ]
  },
  {
   "cell_type": "code",
   "execution_count": 132,
   "metadata": {},
   "outputs": [
    {
     "name": "stdout",
     "output_type": "stream",
     "text": [
      "Total number of unique labels without repetition: 35\n"
     ]
    }
   ],
   "source": [
    "total_unique_labels = len(set(label for label_list in manual_labels for label in label_list if isinstance(label, str)))\n",
    "print(f\"Total number of unique labels without repetition: {total_unique_labels}\")\n",
    "\n"
   ]
  },
  {
   "attachments": {},
   "cell_type": "markdown",
   "metadata": {},
   "source": [
    "## Converting into bag of words representation"
   ]
  },
  {
   "cell_type": "code",
   "execution_count": 190,
   "metadata": {},
   "outputs": [
    {
     "name": "stdout",
     "output_type": "stream",
     "text": [
      "[[['standwithukraine'], ['mlb'], ['noflyzone'], ['it'], ['is']], [['ukraine'], ['the'], ['with'], ['to'], ['stand']], [['standwithukraine'], ['you'], ['is'], ['standwithbiden'], ['defeatthegop2022']], [['playing'], ['video'], ['standwithukraine'], ['now'], ['is']], [['mastercard'], ['visa'], ['operations'], ['russia'], ['in']], [['nowar'], ['standwithukraine'], ['youtube'], ['todayweareallukraine'], ['nowplaying']]]\n"
     ]
    }
   ],
   "source": [
    "print(words_lists)"
   ]
  },
  {
   "cell_type": "code",
   "execution_count": 191,
   "metadata": {},
   "outputs": [
    {
     "name": "stdout",
     "output_type": "stream",
     "text": [
      "[['standwithukraine', 'mlb', 'noflyzone', 'it', 'is'], ['ukraine', 'the', 'with', 'to', 'stand'], ['standwithukraine', 'you', 'is', 'standwithbiden', 'defeatthegop2022'], ['playing', 'video', 'standwithukraine', 'now', 'is'], ['mastercard', 'visa', 'operations', 'russia', 'in'], ['nowar', 'standwithukraine', 'youtube', 'todayweareallukraine', 'nowplaying']]\n"
     ]
    }
   ],
   "source": [
    "transformed_words_lists = [sum(words, []) for words in words_lists]\n",
    "\n",
    "print(transformed_words_lists)\n"
   ]
  },
  {
   "cell_type": "code",
   "execution_count": 277,
   "metadata": {},
   "outputs": [
    {
     "name": "stdout",
     "output_type": "stream",
     "text": [
      "[['standwithukraine'], ['standwithukraine'], [], ['standwithukraine'], ['standwithukraine'], ['standwithukraine'], ['standwithukraine'], ['stopwarinukraine'], ['standwithukraine'], ['stopputin'], ['medvedevRussiae'], [], ['medvedevRussiae'], ['stand', 'with', 'the', 'ukraine'], ['elon musk'], ['zelensky'], ['taiwan'], ['elon musk'], ['andrey lunin'], [], ['standwithukraine'], ['36', '1700', 'standwithukraine'], ['mlbpa'], ['medvedevRussiae'], ['standwithukraine'], ['NYC delivered'], ['standwithukraine'], ['supportukraine'], ['supportukraine'], ['standwithukraine'], ['stopputin'], ['standwithukraine'], ['standwithukraine', 'stopputin'], ['nowar', 'forget', 'war'], ['donateforukraine'], ['standwithukraine'], ['standwithukraine'], ['stopputin'], ['standwithukraine'], ['americans leaving russia'], ['trust president biden'], ['standwithukraine'], ['standwithukraine'], ['construction paper flag'], ['boris johson doing great job'], ['standwithukraine'], ['fight for freedom'], ['standwithukraine'], ['bless americans'], ['mastercard', 'visa', 'operations', 'russia'], ['stopputin'], ['putin is an idiot'], ['ukaine the beginning'], ['putin good for no one'], ['nowar', 'standwithukraine', 'playing', \" 'youtube\"], ['standwithukraine', 'nofly', 'it'], ['we', 'to', 'and'], ['standwithukraine'], ['defeatthegop2022', 'standwithbiden', 'putinstop'], ['mastercard', 'visa', 'operations', 'russia'], ['support ukraine'], ['putin', 'of'], ['standwithukraine'], [\"EU's reaction to ukraine is acceptable\"], ['african countries not with ukraine'], ['playing', 'now', 'video', 'standwithukraine'], ['standwithukraine'], ['bless americans'], ['standwithukraine'], ['stopputin'], ['putin good for no one'], ['standwithukraine'], ['standwithukraine'], ['zelensky'], ['bless americans'], ['stopwarinukraine'], ['standwithukraine'], ['standwithukraine'], ['standwithukraine'], ['standwithukraine'], ['standwithukraine'], ['americans leaving russia'], ['support ukraine'], ['standwithukraine'], ['stopputin'], [], [], ['boris johson doing great job'], ['stopwarinukraine'], ['putin is an idiot'], ['standwithukraine'], [], ['standwithukraine'], ['americans leaving russia'], ['standwithukraine'], ['standwithukraine'], ['standwithukraine'], [], [], [], ['standwithukraine'], ['bless americans'], ['putin good for no one'], ['supportukraine'], ['bless americans'], ['putin good for no one'], ['putin is an idiot'], ['standwithukraine'], ['standwithukraine'], ['stopputin'], ['standwithukraine'], ['nowar', 'forget', 'war'], ['standwithukraine'], ['standwithukraine'], ['zelensky'], ['putin good for no one'], ['bless americans'], ['standwithukraine'], ['standwithukraine', 'stopputin'], ['standwithukraine'], ['standwithukraine'], ['putin good for no one'], ['americans leaving russia'], ['standwithukraine'], ['standwithukraine', 'stopputin'], ['standwithukraine', 'peaceforukraine'], ['standwithukraine'], ['standwithukraine'], ['stopwarinukraine'], ['stopwarinukraine'], ['standwithukraine', 'stay', 'noflyzone'], ['stopputin'], ['standwithukraine'], ['standwithukraine', 'stopputin'], ['stopwarinukraine'], ['standwithukraine'], ['standwithukraine'], ['stopwarinukraine'], ['bless americans'], ['stopputin'], ['stopwarinukraine'], ['standwithukraine'], ['standwithukraine'], ['standwithukraine'], ['standwithukraine'], ['stopwarinukraine'], ['trust president biden'], ['stand', 'with', 'the', 'ukraine'], [], ['standwithukraine'], ['standwithukraine'], ['stopwarinukraine'], ['standwithukraine'], [], [], ['stopwarinukraine'], ['standwithukraine'], ['standwithukraine'], ['standwithukraine'], ['stopwarinukraine'], ['americans leaving russia'], ['bless americans'], ['putin good for no one'], ['stopwarinukraine'], ['standwithukraine'], ['stopputin'], ['nowar', 'forget', 'war'], ['standwithukraine'], [], [], [], ['standwithukraine'], ['stopwarinukraine'], ['standwithukraine'], ['stand', 'with', 'the', 'ukraine'], ['standwithukraine'], ['stopwarinukraine'], ['stopputin'], ['bless americans'], [], [], [], ['standwithukraine'], ['stopputin'], ['bless americans'], ['standwithukraine'], [], [], ['putin is an idiot'], ['bless americans'], ['standwithukraine'], ['stopwarinukraine'], ['nowar', 'forget', 'war'], ['bless americans'], ['standwithukraine'], ['standwithukraine'], ['stopputin'], ['playing', 'video', 'standwithukraine'], [], [], [], [], [], [], [], [], [], [], [], [], [], [], [], [], [], [], [], [], [], [], [], [], [], [], [], [], [], [], [], [], [], [], [], [], [], [], [], [], [], [], [], [], [], [], [], [], [], [], [], [], [], [], [], [], [], [], [], [], [], [], [], [], [], [], [], [], [], [], [], [], [], [], [], [], [], [], [], [], [], [], [], [], [], [], [], [], [], [], [], [], [], [], [], [], [], [], [], [], [], [], [], [], [], [], [], [], [], [], [], [], [], [], [], [], [], [], [], [], [], [], [], [], [], [], [], [], [], [], [], [], [], [], [], [], [], [], [], [], [], [], [], [], [], [], [], [], [], [], [], [], [], [], [], [], [], [], [], [], [], [], [], [], [], [], [], [], [], [], [], [], [], [], [], [], [], [], [], [], [], [], [], [], [], [], [], [], [], [], [], [], [], [], [], [], [], [], [], [], [], [], [], [], [], [], [], [], [], [], [], [], [], [], [], [], [], [], [], [], [], [], [], [], [], [], [], [], [], [], [], [], [], [], [], [], [], [], [], [], [], [], [], [], [], [], [], [], [], [], [], [], [], [], [], [], [], [], [], [], [], [], [], [], [], [], [], [], [], [], [], [], [], [], [], [], [], [], [], [], [], [], [], [], [], [], [], [], [], [], [], [], [], [], [], [], [], [], [], [], []]\n"
     ]
    }
   ],
   "source": [
    "print(formatted_manual_labels)"
   ]
  },
  {
   "cell_type": "code",
   "execution_count": 278,
   "metadata": {},
   "outputs": [
    {
     "name": "stdout",
     "output_type": "stream",
     "text": [
      "[['defeatthegop2022', 'standwithbiden', 'putinstop'], ['trust president biden'], ['standwithukraine'], ['andrey lunin'], ['playing', 'video', 'standwithukraine'], ['mlbpa'], ['supportukraine'], ['mastercard', 'visa', 'operations', 'russia'], ['construction paper flag'], [\"EU's reaction to ukraine is acceptable\"], ['bless americans'], ['african countries not with ukraine'], ['36', '1700', 'standwithukraine'], ['standwithukraine', 'stay', 'noflyzone'], ['medvedevRussiae'], ['stopwarinukraine'], ['donateforukraine'], ['nowar', 'forget', 'war'], ['boris johson doing great job'], ['zelensky'], ['standwithukraine', 'nofly', 'it'], ['standwithukraine', 'stopputin'], ['fight for freedom'], ['americans leaving russia'], ['stopputin'], ['ukaine the beginning'], ['we', 'to', 'and'], ['support ukraine'], ['nowar', 'standwithukraine', 'playing', \" 'youtube\"], ['standwithukraine', 'peaceforukraine'], ['putin good for no one'], ['playing', 'now', 'video', 'standwithukraine'], ['elon musk'], ['stand', 'with', 'the', 'ukraine'], ['putin is an idiot'], ['taiwan'], ['putin', 'of'], ['NYC delivered']]\n"
     ]
    }
   ],
   "source": [
    "\n",
    "# Remove duplicates and empty lists from formatted_manual_labels\n",
    "unique_manual_labels = [label for label in formatted_manual_labels if label]\n",
    "\n",
    "# Remove duplicates\n",
    "unique_manual_labels = list(set(tuple(label) for label in unique_manual_labels))\n",
    "\n",
    "unique_manual_labels_list_of_lists = [list(label_tuple) for label_tuple in unique_manual_labels]\n",
    "\n",
    "print(unique_manual_labels_list_of_lists)\n",
    "\n"
   ]
  },
  {
   "attachments": {},
   "cell_type": "markdown",
   "metadata": {},
   "source": [
    "## BerTopic precision, recall and F1 calculation"
   ]
  },
  {
   "cell_type": "code",
   "execution_count": 213,
   "metadata": {},
   "outputs": [
    {
     "name": "stdout",
     "output_type": "stream",
     "text": [
      "Topic  Precision  Recall            \n",
      "Topic 1  0.40     0.67              \n",
      "Topic 2  0.80     1.00              \n",
      "Topic 3  0.40     0.67              \n",
      "Topic 4  0.80     1.00              \n",
      "Topic 5  0.80     1.00              \n",
      "Topic 6  0.40     0.50              \n",
      "\n",
      "Topic  F1     \n",
      "Topic 1  0.50   \n",
      "Topic 2  0.89   \n",
      "Topic 3  0.50   \n",
      "Topic 4  0.89   \n",
      "Topic 5  0.89   \n",
      "Topic 6  0.44   \n"
     ]
    }
   ],
   "source": [
    "metrics_list = []\n",
    "\n",
    "for idx, transformed_topic in enumerate(transformed_words_lists, start=1):\n",
    "    topic_metrics = []\n",
    "    for unique_topic in unique_manual_labels_list_of_lists:\n",
    "        true_positive = len(set(transformed_topic).intersection(unique_topic))\n",
    "        false_positive = len(set(transformed_topic).difference(unique_topic))\n",
    "        false_negative = len(set(unique_topic).difference(transformed_topic))\n",
    "        \n",
    "        if true_positive == 0 and (false_positive == 0 or false_negative == 0):\n",
    "            precision = recall = f1 = 0  # Handle division by zero\n",
    "        else:\n",
    "            precision = true_positive / (true_positive + false_positive)\n",
    "            recall = true_positive / (true_positive + false_negative)\n",
    "            f1 = 2 * (precision * recall) / (precision + recall) if (precision + recall) > 0 else 0\n",
    "        \n",
    "        topic_metrics.append((precision, recall, f1))\n",
    "    \n",
    "    best_metrics = max(topic_metrics, key=lambda x: x[2])  # Choose metrics for the highest F1 score\n",
    "    metrics_list.append((idx, *best_metrics))\n",
    "\n",
    "# Calculate maximum column widths for formatting\n",
    "column_widths = [max(len(str(item)) for item in row) for row in zip([\"Topic\"] + [f\"Topic {idx}\" for idx in range(1, len(metrics_list[0][1:]))], *metrics_list)]\n",
    "\n",
    "# Print the header for precision, recall, and f1\n",
    "header = [\"Topic\", \"Precision\", \"Recall\", \"F1\"]\n",
    "header_formatted = \"  \".join(f\"{col:<{width}}\" for col, width in zip(header, column_widths))\n",
    "print(header_formatted)\n",
    "\n",
    "# Print topic metrics for precision, recall, and f1\n",
    "for idx, *values in metrics_list:\n",
    "    topic_line = [f\"Topic {idx}\"] + [f\"{value:.2f}\" for value in values]\n",
    "    topic_line_formatted = \"  \".join(f\"{col:<{width}}\" for col, width in zip(topic_line, column_widths))\n",
    "    print(topic_line_formatted)\n",
    "\n",
    "# Empty line for separation\n",
    "print()\n",
    "\n",
    "# Print the header for f1 scores only\n",
    "f1_header = [\"Topic\", \"F1\"]\n",
    "f1_header_formatted = \"  \".join(f\"{col:<{width}}\" for col, width in zip(f1_header, column_widths))\n",
    "print(f1_header_formatted)\n",
    "\n",
    "# Print topic metrics for f1 scores only\n",
    "for idx, *values in metrics_list:\n",
    "    f1_topic_line = [f\"Topic {idx}\", f\"{values[2]:.2f}\"]\n",
    "    f1_topic_line_formatted = \"  \".join(f\"{col:<{width}}\" for col, width in zip(f1_topic_line, column_widths))\n",
    "    print(f1_topic_line_formatted)\n"
   ]
  },
  {
   "cell_type": "code",
   "execution_count": 214,
   "metadata": {},
   "outputs": [
    {
     "name": "stdout",
     "output_type": "stream",
     "text": [
      "                Precision       Recall          F1             \n",
      "Micro-average:  0.76            0.92            0.84           \n",
      "Macro-average:  0.60            0.81            0.69           \n"
     ]
    }
   ],
   "source": [
    "# Calculate micro and macro averages\n",
    "total_tp = total_fp = total_fn = total_precision = total_recall = total_f1 = 0\n",
    "\n",
    "for idx, (_, precision, recall, f1) in enumerate(metrics_list):\n",
    "    total_tp += precision * (precision + recall)\n",
    "    total_fp += (1 - precision) * recall\n",
    "    total_fn += (1 - recall) * precision\n",
    "    total_precision += precision\n",
    "    total_recall += recall\n",
    "    total_f1 += f1\n",
    "\n",
    "micro_precision = total_tp / (total_tp + total_fp)\n",
    "micro_recall = total_tp / (total_tp + total_fn)\n",
    "micro_f1 = 2 * (micro_precision * micro_recall) / (micro_precision + micro_recall) if (micro_precision + micro_recall) > 0 else 0\n",
    "\n",
    "num_topics = len(metrics_list)\n",
    "macro_precision = total_precision / num_topics\n",
    "macro_recall = total_recall / num_topics\n",
    "macro_f1 = total_f1 / num_topics\n",
    "\n",
    "# Print micro and macro averages in a tabular format\n",
    "print(\"{:<15} {:<15} {:<15} {:<15}\".format(\"\", \"Precision\", \"Recall\", \"F1\"))\n",
    "print(\"{:<15} {:<15.2f} {:<15.2f} {:<15.2f}\".format(\"Micro-average:\", micro_precision, micro_recall, micro_f1))\n",
    "print(\"{:<15} {:<15.2f} {:<15.2f} {:<15.2f}\".format(\"Macro-average:\", macro_precision, macro_recall, macro_f1))\n"
   ]
  },
  {
   "attachments": {},
   "cell_type": "markdown",
   "metadata": {},
   "source": [
    "## LDA model"
   ]
  },
  {
   "cell_type": "code",
   "execution_count": 215,
   "metadata": {},
   "outputs": [],
   "source": [
    "from sklearn.decomposition import LatentDirichletAllocation\n",
    "from sklearn.feature_extraction.text import CountVectorizer  # You can also use TfidfVectorizer\n",
    "\n",
    "# Step 1: Text Preprocessing\n",
    "vectorizer = CountVectorizer(max_features=1000)  # Adjust max_features as needed\n",
    "X = vectorizer.fit_transform(text_data)  # Convert text data into a numerical matrix\n",
    "\n",
    "# Step 2: LDA Model\n",
    "num_topics = 4 # Adjust the number of topics\n",
    "lda_model = LatentDirichletAllocation(n_components=num_topics, random_state=42)\n",
    "lda_topics = lda_model.fit_transform(X)\n",
    "\n",
    "# lda_topics now contains the topic distributions for each document\n",
    "# Each row represents a document, and the columns represent the probabilities of belonging to each topic\n"
   ]
  },
  {
   "cell_type": "code",
   "execution_count": 216,
   "metadata": {},
   "outputs": [
    {
     "name": "stdout",
     "output_type": "stream",
     "text": [
      "Topic 1: putin, they, of, is, it, ukraine, and, to, the, standwithukraine\n",
      "Topic 2: we, of, and, to, the, you, standwithukraine, stand, ukraine, with\n",
      "Topic 3: stoprussia, for, you, nowar, and, russia, ukraine, to, in, standwithukraine\n",
      "Topic 4: stand, and, with, is, of, you, standwithukraine, ukraine, to, the\n"
     ]
    }
   ],
   "source": [
    "# Assuming lda_model is your fitted LatentDirichletAllocation model\n",
    "lda_topic_keywords = []\n",
    "for topic_idx, topic in enumerate(lda_model.components_):\n",
    "    top_keywords_idx = topic.argsort()[-10:]  # Get the indices of the top 10 keywords for the topic\n",
    "    top_keywords = [vectorizer.get_feature_names_out()[i] for i in top_keywords_idx]  # Get the actual keywords\n",
    "    lda_topic_keywords.append(top_keywords)\n",
    "\n",
    "# Now lda_topic_keywords contains the top keywords for each topic\n",
    "for topic_idx, keywords in enumerate(lda_topic_keywords):\n",
    "    print(f\"Topic {topic_idx + 1}: {', '.join(keywords)}\")\n",
    "\n"
   ]
  },
  {
   "cell_type": "code",
   "execution_count": 217,
   "metadata": {},
   "outputs": [
    {
     "name": "stdout",
     "output_type": "stream",
     "text": [
      "[['putin', 'they', 'of', 'is'], ['we', 'of', 'and', 'to'], ['stoprussia', 'for', 'you', 'nowar'], ['stand', 'and', 'with', 'is']]\n"
     ]
    }
   ],
   "source": [
    "# Assuming lda_topic_keywords is a list containing the top keywords for each topic\n",
    "max_keywords_per_topic = 4\n",
    "formatted_topics_list = []\n",
    "\n",
    "for topic_idx, keywords in enumerate(lda_topic_keywords):\n",
    "    truncated_keywords = keywords[:max_keywords_per_topic]\n",
    "    formatted_topics_list.append(truncated_keywords)\n",
    "\n",
    "print(formatted_topics_list)\n"
   ]
  },
  {
   "cell_type": "code",
   "execution_count": 218,
   "metadata": {},
   "outputs": [
    {
     "name": "stdout",
     "output_type": "stream",
     "text": [
      "Topic  Precision  Recall            \n",
      "Topic 1  0.50     1.00              \n",
      "Topic 2  0.75     1.00              \n",
      "Topic 3  0.25     0.33              \n",
      "Topic 4  0.50     0.50              \n",
      "\n",
      "Topic  F1     \n",
      "Topic 1  0.67   \n",
      "Topic 2  0.86   \n",
      "Topic 3  0.29   \n",
      "Topic 4  0.50   \n"
     ]
    }
   ],
   "source": [
    "metrics_list = []\n",
    "\n",
    "for idx, transformed_topic in enumerate(formatted_topics_list, start=1):\n",
    "    topic_metrics = []\n",
    "    for unique_topic in unique_manual_labels_list_of_lists:\n",
    "        true_positive = len(set(transformed_topic).intersection(unique_topic))\n",
    "        false_positive = len(set(transformed_topic).difference(unique_topic))\n",
    "        false_negative = len(set(unique_topic).difference(transformed_topic))\n",
    "        \n",
    "        if true_positive == 0 and (false_positive == 0 or false_negative == 0):\n",
    "            precision_lda = recall_lda = f1_lda = 0  # Handle division by zero\n",
    "        else:\n",
    "            precision_lda = true_positive / (true_positive + false_positive)\n",
    "            recall_lda = true_positive / (true_positive + false_negative)\n",
    "            f1_lda = 2 * (precision_lda * recall_lda) / (precision_lda + recall_lda) if (precision_lda + recall_lda) > 0 else 0\n",
    "        \n",
    "        topic_metrics.append((precision_lda, recall_lda, f1_lda))\n",
    "    \n",
    "    best_metrics = max(topic_metrics, key=lambda x: x[2])  # Choose metrics for the highest F1 score\n",
    "    metrics_list.append((idx, *best_metrics))\n",
    "\n",
    "# Calculate maximum column widths for formatting\n",
    "column_widths = [max(len(str(item)) for item in row) for row in zip([\"Topic\"] + [f\"Topic {idx}\" for idx in range(1, len(metrics_list[0][1:]))], *metrics_list)]\n",
    "\n",
    "# Print the header for precision, recall, and f1\n",
    "header = [\"Topic\", \"Precision\", \"Recall\", \"F1\"]\n",
    "header_formatted = \"  \".join(f\"{col:<{width}}\" for col, width in zip(header, column_widths))\n",
    "print(header_formatted)\n",
    "\n",
    "# Print topic metrics for precision, recall, and f1\n",
    "for idx, *values in metrics_list:\n",
    "    topic_line = [f\"Topic {idx}\"] + [f\"{value:.2f}\" for value in values]\n",
    "    topic_line_formatted = \"  \".join(f\"{col:<{width}}\" for col, width in zip(topic_line, column_widths))\n",
    "    print(topic_line_formatted)\n",
    "\n",
    "# Empty line for separation\n",
    "print()\n",
    "\n",
    "# Print the header for f1 scores only\n",
    "f1_header = [\"Topic\", \"F1\"]\n",
    "f1_header_formatted = \"  \".join(f\"{col:<{width}}\" for col, width in zip(f1_header, column_widths))\n",
    "print(f1_header_formatted)\n",
    "\n",
    "# Print topic metrics for f1 scores only\n",
    "for idx, *values in metrics_list:\n",
    "    f1_topic_line = [f\"Topic {idx}\", f\"{values[2]:.2f}\"]\n",
    "    f1_topic_line_formatted = \"  \".join(f\"{col:<{width}}\" for col, width in zip(f1_topic_line, column_widths))\n",
    "    print(f1_topic_line_formatted)\n"
   ]
  },
  {
   "cell_type": "code",
   "execution_count": 219,
   "metadata": {},
   "outputs": [
    {
     "name": "stdout",
     "output_type": "stream",
     "text": [
      "                Precision       Recall          F1             \n",
      "Micro-average:  0.68            0.87            0.76           \n",
      "Macro-average:  0.50            0.71            0.58           \n"
     ]
    }
   ],
   "source": [
    "# Calculate micro and macro averages\n",
    "total_tp = total_fp = total_fn = total_precision_lda = total_recall_lda = total_f1_lda = 0\n",
    "\n",
    "for idx, (_, precision_lda, recall_lda, f1_lda) in enumerate(metrics_list):\n",
    "    total_tp += precision_lda * (precision_lda + recall_lda)\n",
    "    total_fp += (1 - precision_lda) * recall_lda\n",
    "    total_fn += (1 - recall_lda) * precision_lda\n",
    "    total_precision_lda += precision_lda\n",
    "    total_recall_lda += recall_lda\n",
    "    total_f1_lda += f1_lda\n",
    "\n",
    "micro_precision_lda = total_tp / (total_tp + total_fp)\n",
    "micro_recall_lda = total_tp / (total_tp + total_fn)\n",
    "micro_f1_lda = 2 * (micro_precision_lda * micro_recall_lda) / (micro_precision_lda + micro_recall_lda) if (micro_precision_lda + micro_recall_lda) > 0 else 0\n",
    "\n",
    "num_topics = len(metrics_list)\n",
    "macro_precision_lda = total_precision_lda / num_topics\n",
    "macro_recall_lda = total_recall_lda / num_topics\n",
    "macro_f1_lda = total_f1_lda / num_topics\n",
    "\n",
    "# Print micro and macro averages in a tabular format\n",
    "print(\"{:<15} {:<15} {:<15} {:<15}\".format(\"\", \"Precision\", \"Recall\", \"F1\"))\n",
    "print(\"{:<15} {:<15.2f} {:<15.2f} {:<15.2f}\".format(\"Micro-average:\", micro_precision_lda, micro_recall_lda, micro_f1_lda))\n",
    "print(\"{:<15} {:<15.2f} {:<15.2f} {:<15.2f}\".format(\"Macro-average:\", macro_precision_lda, macro_recall_lda, macro_f1_lda))\n"
   ]
  },
  {
   "attachments": {},
   "cell_type": "markdown",
   "metadata": {},
   "source": [
    "## Performance metrics comparison of LDA and BerTopic models"
   ]
  },
  {
   "cell_type": "code",
   "execution_count": 220,
   "metadata": {},
   "outputs": [
    {
     "data": {
      "image/png": "[encoded data removed]",
      "text/plain": [
       "<Figure size 1000x600 with 1 Axes>"
      ]
     },
     "metadata": {},
     "output_type": "display_data"
    }
   ],
   "source": [
    "import matplotlib.pyplot as plt\n",
    "import numpy as np\n",
    "\n",
    "# Assuming you have calculated metrics for both LDA and BERTopic models as shown in your provided code\n",
    "\n",
    "# List of metric names\n",
    "metrics = [\"Precision\", \"Recall\", \"F1\"]\n",
    "\n",
    "# Calculate average scores for LDA and BERTopic\n",
    "avg_lda = [(micro_precision_lda + macro_precision_lda) / 2,\n",
    "           (micro_recall_lda + macro_recall_lda) / 2,\n",
    "           (micro_f1_lda + macro_f1_lda) / 2]\n",
    "avg_bertopic = [(micro_precision + macro_precision) / 2,\n",
    "                (micro_recall + macro_recall) / 2,\n",
    "                (micro_f1 + macro_f1) / 2]\n",
    "\n",
    "# Create a bar chart\n",
    "fig, ax = plt.subplots(figsize=(10, 6))\n",
    "bar_width = 0.35\n",
    "index = np.arange(len(metrics))\n",
    "\n",
    "bar1 = plt.bar(index, avg_lda, bar_width, label='LDA')\n",
    "bar2 = plt.bar(index + bar_width, avg_bertopic, bar_width, label='BERTopic')\n",
    "\n",
    "plt.xlabel('Metrics')\n",
    "plt.ylabel('Scores')\n",
    "plt.title('Average Comparison of Metrics: LDA vs BERTopic')\n",
    "plt.xticks(index + bar_width / 2, metrics)\n",
    "plt.legend()\n",
    "\n",
    "plt.tight_layout()\n",
    "plt.show()\n",
    "\n",
    "\n"
   ]
  },
  {
   "attachments": {},
   "cell_type": "markdown",
   "metadata": {},
   "source": [
    "## Multi-lingual BerTopic model"
   ]
  },
  {
   "cell_type": "code",
   "execution_count": 229,
   "metadata": {},
   "outputs": [],
   "source": [
    "from sentence_transformers import SentenceTransformer\n",
    "\n",
    "# Load a pre-trained German BERT-based language model\n",
    "model_german = SentenceTransformer('distiluse-base-multilingual-cased')"
   ]
  },
  {
   "cell_type": "code",
   "execution_count": 230,
   "metadata": {},
   "outputs": [],
   "source": [
    "topic_model_german = BERTopic(language='german', embedding_model=model_german)"
   ]
  },
  {
   "cell_type": "code",
   "execution_count": 231,
   "metadata": {},
   "outputs": [],
   "source": [
    "topics_german,probs_german = topic_model_german.fit_transform(text_data)"
   ]
  },
  {
   "cell_type": "code",
   "execution_count": 232,
   "metadata": {},
   "outputs": [],
   "source": [
    "# Retrieve topic keywords from the BERTopic model\n",
    "bertopic_germantopic_keywords =topic_model_german.get_topics()"
   ]
  },
  {
   "cell_type": "code",
   "execution_count": 233,
   "metadata": {},
   "outputs": [
    {
     "data": {
      "text/plain": [
       "['-1, nowar, standwithukraine, nowplaying, todayweareallukraine, hahahahahahaha',\n",
       " '0, the, to, ukraine, standwithukraine, you',\n",
       " '1, stand, with, ukraine, we, from',\n",
       " '2, standwithukraine, via, comment, spark, peaceforukraine',\n",
       " '3, standwithukraine, stay, defenddemocracy, noflyzone, strong',\n",
       " '4, playing, video, standwithukraine, is, now']"
      ]
     },
     "execution_count": 233,
     "metadata": {},
     "output_type": "execute_result"
    }
   ],
   "source": [
    "topic_labelsgerman = topic_model_german.generate_topic_labels(nr_words=5, separator=\", \")\n",
    "type(topic_labelsgerman)\n",
    "topic_labelsgerman"
   ]
  },
  {
   "cell_type": "code",
   "execution_count": 234,
   "metadata": {},
   "outputs": [
    {
     "name": "stdout",
     "output_type": "stream",
     "text": [
      "[['-1', 'nowar', 'standwithukraine', 'nowplaying', 'todayweareallukraine', 'hahahahahahaha'], ['0', 'the', 'to', 'ukraine', 'standwithukraine', 'you'], ['1', 'stand', 'with', 'ukraine', 'we', 'from'], ['2', 'standwithukraine', 'via', 'comment', 'spark', 'peaceforukraine'], ['3', 'standwithukraine', 'stay', 'defenddemocracy', 'noflyzone', 'strong'], ['4', 'playing', 'video', 'standwithukraine', 'is', 'now']]\n"
     ]
    }
   ],
   "source": [
    "topic_labels_german = topic_model_german.generate_topic_labels(nr_words=5, separator=\", \")\n",
    "\n",
    "formatted_topic_labels = []\n",
    "for label in topic_labels_german:\n",
    "    parts = label.split(\", \")\n",
    "    formatted_label = [parts[0]]\n",
    "    formatted_label.extend(parts[1:])\n",
    "    formatted_topic_labels.append(formatted_label)\n",
    "\n",
    "print(formatted_topic_labels)\n",
    "\n"
   ]
  },
  {
   "cell_type": "code",
   "execution_count": 235,
   "metadata": {},
   "outputs": [
    {
     "name": "stdout",
     "output_type": "stream",
     "text": [
      "[['nowar', 'standwithukraine', 'nowplaying', 'todayweareallukraine', 'hahahahahahaha'], ['the', 'to', 'ukraine', 'standwithukraine', 'you'], ['stand', 'with', 'ukraine', 'we', 'from'], ['standwithukraine', 'via', 'comment', 'spark', 'peaceforukraine'], ['standwithukraine', 'stay', 'defenddemocracy', 'noflyzone', 'strong'], ['playing', 'video', 'standwithukraine', 'is', 'now']]\n"
     ]
    }
   ],
   "source": [
    "topic_labels_german = topic_model_german.generate_topic_labels(nr_words=5, separator=\", \")\n",
    "\n",
    "formatted_topic_labels = []\n",
    "for label in topic_labels_german:\n",
    "    parts = label.split(\", \")\n",
    "    formatted_label = parts[1:]  # Exclude the first element\n",
    "    formatted_topic_labels.append(formatted_label)\n",
    "\n",
    "print(formatted_topic_labels)\n"
   ]
  },
  {
   "attachments": {},
   "cell_type": "markdown",
   "metadata": {},
   "source": [
    "## Precision, Recalla nd F1 of Multi-lingual Bertopic model"
   ]
  },
  {
   "cell_type": "code",
   "execution_count": 279,
   "metadata": {},
   "outputs": [
    {
     "name": "stdout",
     "output_type": "stream",
     "text": [
      "Topic  Precision  Recall \n",
      "Topic 1  0.40     0.50   \n",
      "Topic 2  0.40     0.50   \n",
      "Topic 3  0.60     0.75   \n",
      "Topic 4  0.40     1.00   \n",
      "Topic 5  0.60     1.00   \n",
      "Topic 6  0.80     1.00   \n",
      "\n",
      "Topic  F1     \n",
      "Topic 1  0.44   \n",
      "Topic 2  0.44   \n",
      "Topic 3  0.67   \n",
      "Topic 4  0.57   \n",
      "Topic 5  0.75   \n",
      "Topic 6  0.89   \n"
     ]
    }
   ],
   "source": [
    "metrics_list = []\n",
    "\n",
    "for idx, transformed_topic in enumerate(formatted_topic_labels, start=1):\n",
    "    topic_metrics = []\n",
    "    for unique_topic in unique_manual_labels_list_of_lists:\n",
    "        true_positive = len(set(transformed_topic).intersection(unique_topic))\n",
    "        false_positive = len(set(transformed_topic).difference(unique_topic))\n",
    "        false_negative = len(set(unique_topic).difference(transformed_topic))\n",
    "        \n",
    "        if true_positive == 0 and (false_positive == 0 or false_negative == 0):\n",
    "            precision = recall = f1 = 0  # Handle division by zero\n",
    "        else:\n",
    "            precision = true_positive / (true_positive + false_positive)\n",
    "            recall = true_positive / (true_positive + false_negative)\n",
    "            f1 = 2 * (precision * recall) / (precision + recall) if (precision + recall) > 0 else 0\n",
    "        \n",
    "        topic_metrics.append((precision, recall, f1))\n",
    "    \n",
    "    best_metrics = max(topic_metrics, key=lambda x: x[2])  # Choose metrics for the highest F1 score\n",
    "    metrics_list.append((idx, *best_metrics))\n",
    "\n",
    "# Calculate maximum column widths for formatting\n",
    "column_widths = [max(len(str(item)) for item in row) for row in zip([\"Topic\"] + [f\"Topic {idx}\" for idx in range(1, len(metrics_list[0][1:]))], *metrics_list)]\n",
    "\n",
    "# Print the header for precision, recall, and f1\n",
    "header = [\"Topic\", \"Precision\", \"Recall\", \"F1\"]\n",
    "header_formatted = \"  \".join(f\"{col:<{width}}\" for col, width in zip(header, column_widths))\n",
    "print(header_formatted)\n",
    "\n",
    "# Print topic metrics for precision, recall, and f1\n",
    "for idx, *values in metrics_list:\n",
    "    topic_line = [f\"Topic {idx}\"] + [f\"{value:.2f}\" for value in values]\n",
    "    topic_line_formatted = \"  \".join(f\"{col:<{width}}\" for col, width in zip(topic_line, column_widths))\n",
    "    print(topic_line_formatted)\n",
    "\n",
    "# Empty line for separation\n",
    "print()\n",
    "\n",
    "# Print the header for f1 scores only\n",
    "f1_header = [\"Topic\", \"F1\"]\n",
    "f1_header_formatted = \"  \".join(f\"{col:<{width}}\" for col, width in zip(f1_header, column_widths))\n",
    "print(f1_header_formatted)\n",
    "\n",
    "# Print topic metrics for f1 scores only\n",
    "for idx, *values in metrics_list:\n",
    "    f1_topic_line = [f\"Topic {idx}\", f\"{values[2]:.2f}\"]\n",
    "    f1_topic_line_formatted = \"  \".join(f\"{col:<{width}}\" for col, width in zip(f1_topic_line, column_widths))\n",
    "    print(f1_topic_line_formatted)\n"
   ]
  },
  {
   "cell_type": "code",
   "execution_count": 283,
   "metadata": {},
   "outputs": [
    {
     "name": "stdout",
     "output_type": "stream",
     "text": [
      "                Precision       Recall          F1             \n",
      "Micro-average:  0.68            0.89            0.77           \n",
      "Macro-average:  0.53            0.79            0.63           \n"
     ]
    }
   ],
   "source": [
    "# Initialize variables for micro and macro averages\n",
    "total_tp = total_fp = total_fn = total_precision = total_recall = total_f1 = 0\n",
    "\n",
    "# Iterate through the metrics list\n",
    "for _, precision, recall, f1 in metrics_list:\n",
    "    total_tp += precision * (precision + recall)\n",
    "    total_fp += (1 - precision) * recall\n",
    "    total_fn += (1 - recall) * precision\n",
    "    total_precision += precision\n",
    "    total_recall += recall\n",
    "    total_f1 += f1\n",
    "\n",
    "# Calculate micro-average\n",
    "micro_precision = total_tp / (total_tp + total_fp)\n",
    "micro_recall = total_tp / (total_tp + total_fn)\n",
    "micro_f1 = 2 * (micro_precision * micro_recall) / (micro_precision + micro_recall) if (micro_precision + micro_recall) > 0 else 0\n",
    "\n",
    "# Calculate macro-average\n",
    "num_topics = len(metrics_list)\n",
    "macro_precision = total_precision / num_topics\n",
    "macro_recall = total_recall / num_topics\n",
    "macro_f1 = total_f1 / num_topics\n",
    "\n",
    "# Print micro and macro averages in a tabular format\n",
    "print(\"{:<15} {:<15} {:<15} {:<15}\".format(\"\", \"Precision\", \"Recall\", \"F1\"))\n",
    "print(\"{:<15} {:<15.2f} {:<15.2f} {:<15.2f}\".format(\"Micro-average:\", micro_precision, micro_recall, micro_f1))\n",
    "print(\"{:<15} {:<15.2f} {:<15.2f} {:<15.2f}\".format(\"Macro-average:\", macro_precision, macro_recall, macro_f1))\n"
   ]
  },
  {
   "cell_type": "code",
   "execution_count": null,
   "metadata": {},
   "outputs": [],
   "source": []
  },
  {
   "cell_type": "code",
   "execution_count": null,
   "metadata": {},
   "outputs": [],
   "source": []
  }
 ],
 "metadata": {
  "kernelspec": {
   "display_name": "Python 3",
   "language": "python",
   "name": "python3"
  },
  "language_info": {
   "codemirror_mode": {
    "name": "ipython",
    "version": 3
   },
   "file_extension": ".py",
   "mimetype": "text/x-python",
   "name": "python",
   "nbconvert_exporter": "python",
   "pygments_lexer": "ipython3",
   "version": "3.11.3"
  },
  "orig_nbformat": 4
 },
 "nbformat": 4,
 "nbformat_minor": 2
}
